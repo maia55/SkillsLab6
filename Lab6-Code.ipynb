{
 "cells": [
  {
   "cell_type": "code",
   "execution_count": 6,
   "metadata": {},
   "outputs": [
    {
     "name": "stdin",
     "output_type": "stream",
     "text": [
      "Please enter your name. Kaitlyn\n",
      "Please enter your age. 21\n"
     ]
    },
    {
     "name": "stdout",
     "output_type": "stream",
     "text": [
      "Kaitlyn is 21 and is legally allowed to drink or smoke. Please exercise caution.\n"
     ]
    }
   ],
   "source": [
    "\n",
    "name = input(\"Please enter your name.\")\n",
    "age = int(input(\"Please enter your age.\"))\n",
    "# If age is less than 21, print \"You are not allowed to drink or smoke\", name.\n",
    "if age < 21:\n",
    "    print(name, \"is less than 21, and not allowed to drink or smoke.\")\n",
    "# If age is greater than or equal to 21, print \"You are allowed to drink or smoke. Be careful\", name.  \n",
    "elif age > 21:\n",
    "    print(name, \"is over 21, and is legally allowed to drink or smoke. Please exercise caution\")\n",
    "else:\n",
    "    print(name, \"is 21 and is legally allowed to drink or smoke. Please exercise caution.\")\n",
    "\n"
   ]
  },
  {
   "cell_type": "code",
   "execution_count": null,
   "metadata": {},
   "outputs": [],
   "source": []
  }
 ],
 "metadata": {
  "kernelspec": {
   "display_name": "Python 3",
   "language": "python",
   "name": "python3"
  },
  "language_info": {
   "codemirror_mode": {
    "name": "ipython",
    "version": 3
   },
   "file_extension": ".py",
   "mimetype": "text/x-python",
   "name": "python",
   "nbconvert_exporter": "python",
   "pygments_lexer": "ipython3",
   "version": "3.8.3"
  }
 },
 "nbformat": 4,
 "nbformat_minor": 4
}
